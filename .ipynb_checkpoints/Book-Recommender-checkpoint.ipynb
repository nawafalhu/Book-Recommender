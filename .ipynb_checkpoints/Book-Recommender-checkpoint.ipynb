{
 "cells": [
  {
   "cell_type": "code",
   "execution_count": 29,
   "id": "8ba88771",
   "metadata": {},
   "outputs": [],
   "source": [
    "import pandas as pd \n",
    "import matplotlib.pyplot as plt \n",
    "import seaborn as sns \n",
    "import numpy as np"
   ]
  },
  {
   "cell_type": "code",
   "execution_count": 30,
   "id": "8203ca43",
   "metadata": {},
   "outputs": [
    {
     "data": {
      "text/html": [
       "<div>\n",
       "<style scoped>\n",
       "    .dataframe tbody tr th:only-of-type {\n",
       "        vertical-align: middle;\n",
       "    }\n",
       "\n",
       "    .dataframe tbody tr th {\n",
       "        vertical-align: top;\n",
       "    }\n",
       "\n",
       "    .dataframe thead th {\n",
       "        text-align: right;\n",
       "    }\n",
       "</style>\n",
       "<table border=\"1\" class=\"dataframe\">\n",
       "  <thead>\n",
       "    <tr style=\"text-align: right;\">\n",
       "      <th></th>\n",
       "      <th>ISBN</th>\n",
       "      <th>Book-Title</th>\n",
       "      <th>Book-Author</th>\n",
       "      <th>Year-Of-Publication</th>\n",
       "      <th>Publisher</th>\n",
       "      <th>Image-URL-S</th>\n",
       "      <th>Image-URL-M</th>\n",
       "      <th>Image-URL-L</th>\n",
       "    </tr>\n",
       "  </thead>\n",
       "  <tbody>\n",
       "    <tr>\n",
       "      <th>0</th>\n",
       "      <td>0195153448</td>\n",
       "      <td>Classical Mythology</td>\n",
       "      <td>Mark P. O. Morford</td>\n",
       "      <td>2002</td>\n",
       "      <td>Oxford University Press</td>\n",
       "      <td>http://images.amazon.com/images/P/0195153448.0...</td>\n",
       "      <td>http://images.amazon.com/images/P/0195153448.0...</td>\n",
       "      <td>http://images.amazon.com/images/P/0195153448.0...</td>\n",
       "    </tr>\n",
       "    <tr>\n",
       "      <th>1</th>\n",
       "      <td>0002005018</td>\n",
       "      <td>Clara Callan</td>\n",
       "      <td>Richard Bruce Wright</td>\n",
       "      <td>2001</td>\n",
       "      <td>HarperFlamingo Canada</td>\n",
       "      <td>http://images.amazon.com/images/P/0002005018.0...</td>\n",
       "      <td>http://images.amazon.com/images/P/0002005018.0...</td>\n",
       "      <td>http://images.amazon.com/images/P/0002005018.0...</td>\n",
       "    </tr>\n",
       "    <tr>\n",
       "      <th>2</th>\n",
       "      <td>0060973129</td>\n",
       "      <td>Decision in Normandy</td>\n",
       "      <td>Carlo D'Este</td>\n",
       "      <td>1991</td>\n",
       "      <td>HarperPerennial</td>\n",
       "      <td>http://images.amazon.com/images/P/0060973129.0...</td>\n",
       "      <td>http://images.amazon.com/images/P/0060973129.0...</td>\n",
       "      <td>http://images.amazon.com/images/P/0060973129.0...</td>\n",
       "    </tr>\n",
       "    <tr>\n",
       "      <th>3</th>\n",
       "      <td>0374157065</td>\n",
       "      <td>Flu: The Story of the Great Influenza Pandemic...</td>\n",
       "      <td>Gina Bari Kolata</td>\n",
       "      <td>1999</td>\n",
       "      <td>Farrar Straus Giroux</td>\n",
       "      <td>http://images.amazon.com/images/P/0374157065.0...</td>\n",
       "      <td>http://images.amazon.com/images/P/0374157065.0...</td>\n",
       "      <td>http://images.amazon.com/images/P/0374157065.0...</td>\n",
       "    </tr>\n",
       "    <tr>\n",
       "      <th>4</th>\n",
       "      <td>0393045218</td>\n",
       "      <td>The Mummies of Urumchi</td>\n",
       "      <td>E. J. W. Barber</td>\n",
       "      <td>1999</td>\n",
       "      <td>W. W. Norton &amp;amp; Company</td>\n",
       "      <td>http://images.amazon.com/images/P/0393045218.0...</td>\n",
       "      <td>http://images.amazon.com/images/P/0393045218.0...</td>\n",
       "      <td>http://images.amazon.com/images/P/0393045218.0...</td>\n",
       "    </tr>\n",
       "  </tbody>\n",
       "</table>\n",
       "</div>"
      ],
      "text/plain": [
       "         ISBN                                         Book-Title  \\\n",
       "0  0195153448                                Classical Mythology   \n",
       "1  0002005018                                       Clara Callan   \n",
       "2  0060973129                               Decision in Normandy   \n",
       "3  0374157065  Flu: The Story of the Great Influenza Pandemic...   \n",
       "4  0393045218                             The Mummies of Urumchi   \n",
       "\n",
       "            Book-Author Year-Of-Publication                   Publisher  \\\n",
       "0    Mark P. O. Morford                2002     Oxford University Press   \n",
       "1  Richard Bruce Wright                2001       HarperFlamingo Canada   \n",
       "2          Carlo D'Este                1991             HarperPerennial   \n",
       "3      Gina Bari Kolata                1999        Farrar Straus Giroux   \n",
       "4       E. J. W. Barber                1999  W. W. Norton &amp; Company   \n",
       "\n",
       "                                         Image-URL-S  \\\n",
       "0  http://images.amazon.com/images/P/0195153448.0...   \n",
       "1  http://images.amazon.com/images/P/0002005018.0...   \n",
       "2  http://images.amazon.com/images/P/0060973129.0...   \n",
       "3  http://images.amazon.com/images/P/0374157065.0...   \n",
       "4  http://images.amazon.com/images/P/0393045218.0...   \n",
       "\n",
       "                                         Image-URL-M  \\\n",
       "0  http://images.amazon.com/images/P/0195153448.0...   \n",
       "1  http://images.amazon.com/images/P/0002005018.0...   \n",
       "2  http://images.amazon.com/images/P/0060973129.0...   \n",
       "3  http://images.amazon.com/images/P/0374157065.0...   \n",
       "4  http://images.amazon.com/images/P/0393045218.0...   \n",
       "\n",
       "                                         Image-URL-L  \n",
       "0  http://images.amazon.com/images/P/0195153448.0...  \n",
       "1  http://images.amazon.com/images/P/0002005018.0...  \n",
       "2  http://images.amazon.com/images/P/0060973129.0...  \n",
       "3  http://images.amazon.com/images/P/0374157065.0...  \n",
       "4  http://images.amazon.com/images/P/0393045218.0...  "
      ]
     },
     "execution_count": 30,
     "metadata": {},
     "output_type": "execute_result"
    }
   ],
   "source": [
    "book = pd.read_csv(\"DATA/Books.csv\", low_memory=False)\n",
    "book.head()"
   ]
  },
  {
   "cell_type": "code",
   "execution_count": 31,
   "id": "4df74251",
   "metadata": {},
   "outputs": [
    {
     "data": {
      "text/html": [
       "<div>\n",
       "<style scoped>\n",
       "    .dataframe tbody tr th:only-of-type {\n",
       "        vertical-align: middle;\n",
       "    }\n",
       "\n",
       "    .dataframe tbody tr th {\n",
       "        vertical-align: top;\n",
       "    }\n",
       "\n",
       "    .dataframe thead th {\n",
       "        text-align: right;\n",
       "    }\n",
       "</style>\n",
       "<table border=\"1\" class=\"dataframe\">\n",
       "  <thead>\n",
       "    <tr style=\"text-align: right;\">\n",
       "      <th></th>\n",
       "      <th>User-ID</th>\n",
       "      <th>Location</th>\n",
       "      <th>Age</th>\n",
       "    </tr>\n",
       "  </thead>\n",
       "  <tbody>\n",
       "    <tr>\n",
       "      <th>0</th>\n",
       "      <td>1</td>\n",
       "      <td>nyc, new york, usa</td>\n",
       "      <td>NaN</td>\n",
       "    </tr>\n",
       "    <tr>\n",
       "      <th>1</th>\n",
       "      <td>2</td>\n",
       "      <td>stockton, california, usa</td>\n",
       "      <td>18.0</td>\n",
       "    </tr>\n",
       "    <tr>\n",
       "      <th>2</th>\n",
       "      <td>3</td>\n",
       "      <td>moscow, yukon territory, russia</td>\n",
       "      <td>NaN</td>\n",
       "    </tr>\n",
       "    <tr>\n",
       "      <th>3</th>\n",
       "      <td>4</td>\n",
       "      <td>porto, v.n.gaia, portugal</td>\n",
       "      <td>17.0</td>\n",
       "    </tr>\n",
       "    <tr>\n",
       "      <th>4</th>\n",
       "      <td>5</td>\n",
       "      <td>farnborough, hants, united kingdom</td>\n",
       "      <td>NaN</td>\n",
       "    </tr>\n",
       "  </tbody>\n",
       "</table>\n",
       "</div>"
      ],
      "text/plain": [
       "   User-ID                            Location   Age\n",
       "0        1                  nyc, new york, usa   NaN\n",
       "1        2           stockton, california, usa  18.0\n",
       "2        3     moscow, yukon territory, russia   NaN\n",
       "3        4           porto, v.n.gaia, portugal  17.0\n",
       "4        5  farnborough, hants, united kingdom   NaN"
      ]
     },
     "execution_count": 31,
     "metadata": {},
     "output_type": "execute_result"
    }
   ],
   "source": [
    "user = pd.read_csv(\"DATA/Users.csv\")\n",
    "user.head()"
   ]
  },
  {
   "cell_type": "code",
   "execution_count": 32,
   "id": "0a71a81e",
   "metadata": {},
   "outputs": [
    {
     "data": {
      "text/html": [
       "<div>\n",
       "<style scoped>\n",
       "    .dataframe tbody tr th:only-of-type {\n",
       "        vertical-align: middle;\n",
       "    }\n",
       "\n",
       "    .dataframe tbody tr th {\n",
       "        vertical-align: top;\n",
       "    }\n",
       "\n",
       "    .dataframe thead th {\n",
       "        text-align: right;\n",
       "    }\n",
       "</style>\n",
       "<table border=\"1\" class=\"dataframe\">\n",
       "  <thead>\n",
       "    <tr style=\"text-align: right;\">\n",
       "      <th></th>\n",
       "      <th>User-ID</th>\n",
       "      <th>ISBN</th>\n",
       "      <th>Book-Rating</th>\n",
       "    </tr>\n",
       "  </thead>\n",
       "  <tbody>\n",
       "    <tr>\n",
       "      <th>0</th>\n",
       "      <td>276725</td>\n",
       "      <td>034545104X</td>\n",
       "      <td>0</td>\n",
       "    </tr>\n",
       "    <tr>\n",
       "      <th>1</th>\n",
       "      <td>276726</td>\n",
       "      <td>0155061224</td>\n",
       "      <td>5</td>\n",
       "    </tr>\n",
       "    <tr>\n",
       "      <th>2</th>\n",
       "      <td>276727</td>\n",
       "      <td>0446520802</td>\n",
       "      <td>0</td>\n",
       "    </tr>\n",
       "    <tr>\n",
       "      <th>3</th>\n",
       "      <td>276729</td>\n",
       "      <td>052165615X</td>\n",
       "      <td>3</td>\n",
       "    </tr>\n",
       "    <tr>\n",
       "      <th>4</th>\n",
       "      <td>276729</td>\n",
       "      <td>0521795028</td>\n",
       "      <td>6</td>\n",
       "    </tr>\n",
       "  </tbody>\n",
       "</table>\n",
       "</div>"
      ],
      "text/plain": [
       "   User-ID        ISBN  Book-Rating\n",
       "0   276725  034545104X            0\n",
       "1   276726  0155061224            5\n",
       "2   276727  0446520802            0\n",
       "3   276729  052165615X            3\n",
       "4   276729  0521795028            6"
      ]
     },
     "execution_count": 32,
     "metadata": {},
     "output_type": "execute_result"
    }
   ],
   "source": [
    "rating = pd.read_csv(\"DATA/Ratings.csv\")\n",
    "rating.head()"
   ]
  },
  {
   "cell_type": "code",
   "execution_count": 33,
   "id": "0204c67c",
   "metadata": {},
   "outputs": [
    {
     "name": "stdout",
     "output_type": "stream",
     "text": [
      "<class 'pandas.core.frame.DataFrame'>\n",
      "RangeIndex: 271360 entries, 0 to 271359\n",
      "Data columns (total 8 columns):\n",
      " #   Column               Non-Null Count   Dtype \n",
      "---  ------               --------------   ----- \n",
      " 0   ISBN                 271360 non-null  object\n",
      " 1   Book-Title           271360 non-null  object\n",
      " 2   Book-Author          271359 non-null  object\n",
      " 3   Year-Of-Publication  271360 non-null  object\n",
      " 4   Publisher            271358 non-null  object\n",
      " 5   Image-URL-S          271360 non-null  object\n",
      " 6   Image-URL-M          271360 non-null  object\n",
      " 7   Image-URL-L          271357 non-null  object\n",
      "dtypes: object(8)\n",
      "memory usage: 16.6+ MB\n"
     ]
    }
   ],
   "source": [
    "book.info()"
   ]
  },
  {
   "cell_type": "code",
   "execution_count": 34,
   "id": "899dee34",
   "metadata": {},
   "outputs": [
    {
     "data": {
      "text/plain": [
       "ISBN                   0\n",
       "Book-Title             0\n",
       "Book-Author            1\n",
       "Year-Of-Publication    0\n",
       "Publisher              2\n",
       "Image-URL-S            0\n",
       "Image-URL-M            0\n",
       "Image-URL-L            3\n",
       "dtype: int64"
      ]
     },
     "execution_count": 34,
     "metadata": {},
     "output_type": "execute_result"
    }
   ],
   "source": [
    "book.isna().sum()"
   ]
  },
  {
   "cell_type": "code",
   "execution_count": 35,
   "id": "6e55d6e9",
   "metadata": {},
   "outputs": [
    {
     "name": "stdout",
     "output_type": "stream",
     "text": [
      "<class 'pandas.core.frame.DataFrame'>\n",
      "RangeIndex: 1149780 entries, 0 to 1149779\n",
      "Data columns (total 3 columns):\n",
      " #   Column       Non-Null Count    Dtype \n",
      "---  ------       --------------    ----- \n",
      " 0   User-ID      1149780 non-null  int64 \n",
      " 1   ISBN         1149780 non-null  object\n",
      " 2   Book-Rating  1149780 non-null  int64 \n",
      "dtypes: int64(2), object(1)\n",
      "memory usage: 26.3+ MB\n"
     ]
    }
   ],
   "source": [
    "rating.info()"
   ]
  },
  {
   "cell_type": "code",
   "execution_count": 36,
   "id": "9dd718ab",
   "metadata": {},
   "outputs": [
    {
     "name": "stdout",
     "output_type": "stream",
     "text": [
      "<class 'pandas.core.frame.DataFrame'>\n",
      "RangeIndex: 278858 entries, 0 to 278857\n",
      "Data columns (total 3 columns):\n",
      " #   Column    Non-Null Count   Dtype  \n",
      "---  ------    --------------   -----  \n",
      " 0   User-ID   278858 non-null  int64  \n",
      " 1   Location  278858 non-null  object \n",
      " 2   Age       168096 non-null  float64\n",
      "dtypes: float64(1), int64(1), object(1)\n",
      "memory usage: 6.4+ MB\n"
     ]
    }
   ],
   "source": [
    "user.info()"
   ]
  },
  {
   "cell_type": "code",
   "execution_count": 37,
   "id": "6dedcb24",
   "metadata": {},
   "outputs": [
    {
     "data": {
      "text/plain": [
       "User-ID          0\n",
       "Location         0\n",
       "Age         110762\n",
       "dtype: int64"
      ]
     },
     "execution_count": 37,
     "metadata": {},
     "output_type": "execute_result"
    }
   ],
   "source": [
    "user.isna().sum()"
   ]
  },
  {
   "cell_type": "code",
   "execution_count": 39,
   "id": "e63cdc9e",
   "metadata": {},
   "outputs": [
    {
     "data": {
      "text/html": [
       "<div>\n",
       "<style scoped>\n",
       "    .dataframe tbody tr th:only-of-type {\n",
       "        vertical-align: middle;\n",
       "    }\n",
       "\n",
       "    .dataframe tbody tr th {\n",
       "        vertical-align: top;\n",
       "    }\n",
       "\n",
       "    .dataframe thead th {\n",
       "        text-align: right;\n",
       "    }\n",
       "</style>\n",
       "<table border=\"1\" class=\"dataframe\">\n",
       "  <thead>\n",
       "    <tr style=\"text-align: right;\">\n",
       "      <th></th>\n",
       "      <th>ISBN</th>\n",
       "      <th>Book-Title</th>\n",
       "      <th>Book-Author</th>\n",
       "      <th>Year-Of-Publication</th>\n",
       "      <th>Publisher</th>\n",
       "      <th>Image-URL-S</th>\n",
       "      <th>Image-URL-M</th>\n",
       "      <th>Image-URL-L</th>\n",
       "    </tr>\n",
       "  </thead>\n",
       "  <tbody>\n",
       "    <tr>\n",
       "      <th>128890</th>\n",
       "      <td>193169656X</td>\n",
       "      <td>Tyrant Moon</td>\n",
       "      <td>Elaine Corvidae</td>\n",
       "      <td>2002</td>\n",
       "      <td>NaN</td>\n",
       "      <td>http://images.amazon.com/images/P/193169656X.0...</td>\n",
       "      <td>http://images.amazon.com/images/P/193169656X.0...</td>\n",
       "      <td>http://images.amazon.com/images/P/193169656X.0...</td>\n",
       "    </tr>\n",
       "    <tr>\n",
       "      <th>129037</th>\n",
       "      <td>1931696993</td>\n",
       "      <td>Finders Keepers</td>\n",
       "      <td>Linnea Sinclair</td>\n",
       "      <td>2001</td>\n",
       "      <td>NaN</td>\n",
       "      <td>http://images.amazon.com/images/P/1931696993.0...</td>\n",
       "      <td>http://images.amazon.com/images/P/1931696993.0...</td>\n",
       "      <td>http://images.amazon.com/images/P/1931696993.0...</td>\n",
       "    </tr>\n",
       "    <tr>\n",
       "      <th>187689</th>\n",
       "      <td>9627982032</td>\n",
       "      <td>The Credit Suisse Guide to Managing Your Perso...</td>\n",
       "      <td>NaN</td>\n",
       "      <td>1995</td>\n",
       "      <td>Edinburgh Financial Publishing</td>\n",
       "      <td>http://images.amazon.com/images/P/9627982032.0...</td>\n",
       "      <td>http://images.amazon.com/images/P/9627982032.0...</td>\n",
       "      <td>http://images.amazon.com/images/P/9627982032.0...</td>\n",
       "    </tr>\n",
       "  </tbody>\n",
       "</table>\n",
       "</div>"
      ],
      "text/plain": [
       "              ISBN                                         Book-Title  \\\n",
       "128890  193169656X                                        Tyrant Moon   \n",
       "129037  1931696993                                    Finders Keepers   \n",
       "187689  9627982032  The Credit Suisse Guide to Managing Your Perso...   \n",
       "\n",
       "            Book-Author Year-Of-Publication                       Publisher  \\\n",
       "128890  Elaine Corvidae                2002                             NaN   \n",
       "129037  Linnea Sinclair                2001                             NaN   \n",
       "187689              NaN                1995  Edinburgh Financial Publishing   \n",
       "\n",
       "                                              Image-URL-S  \\\n",
       "128890  http://images.amazon.com/images/P/193169656X.0...   \n",
       "129037  http://images.amazon.com/images/P/1931696993.0...   \n",
       "187689  http://images.amazon.com/images/P/9627982032.0...   \n",
       "\n",
       "                                              Image-URL-M  \\\n",
       "128890  http://images.amazon.com/images/P/193169656X.0...   \n",
       "129037  http://images.amazon.com/images/P/1931696993.0...   \n",
       "187689  http://images.amazon.com/images/P/9627982032.0...   \n",
       "\n",
       "                                              Image-URL-L  \n",
       "128890  http://images.amazon.com/images/P/193169656X.0...  \n",
       "129037  http://images.amazon.com/images/P/1931696993.0...  \n",
       "187689  http://images.amazon.com/images/P/9627982032.0...  "
      ]
     },
     "execution_count": 39,
     "metadata": {},
     "output_type": "execute_result"
    }
   ],
   "source": [
    "book[(book['Book-Author'].isna()) | (book['Publisher'].isna())]"
   ]
  },
  {
   "cell_type": "code",
   "execution_count": 40,
   "id": "f2fd7175",
   "metadata": {},
   "outputs": [
    {
     "data": {
      "text/html": [
       "<div>\n",
       "<style scoped>\n",
       "    .dataframe tbody tr th:only-of-type {\n",
       "        vertical-align: middle;\n",
       "    }\n",
       "\n",
       "    .dataframe tbody tr th {\n",
       "        vertical-align: top;\n",
       "    }\n",
       "\n",
       "    .dataframe thead th {\n",
       "        text-align: right;\n",
       "    }\n",
       "</style>\n",
       "<table border=\"1\" class=\"dataframe\">\n",
       "  <thead>\n",
       "    <tr style=\"text-align: right;\">\n",
       "      <th></th>\n",
       "      <th>ISBN</th>\n",
       "      <th>Book-Title</th>\n",
       "      <th>Book-Author</th>\n",
       "      <th>Year-Of-Publication</th>\n",
       "      <th>Publisher</th>\n",
       "      <th>Image-URL-S</th>\n",
       "      <th>Image-URL-M</th>\n",
       "      <th>Image-URL-L</th>\n",
       "    </tr>\n",
       "  </thead>\n",
       "  <tbody>\n",
       "    <tr>\n",
       "      <th>126762</th>\n",
       "      <td>1931696934</td>\n",
       "      <td>Winter's Orphans</td>\n",
       "      <td>Elaine Corvidae</td>\n",
       "      <td>2001</td>\n",
       "      <td>Novelbooks</td>\n",
       "      <td>http://images.amazon.com/images/P/1931696934.0...</td>\n",
       "      <td>http://images.amazon.com/images/P/1931696934.0...</td>\n",
       "      <td>http://images.amazon.com/images/P/1931696934.0...</td>\n",
       "    </tr>\n",
       "    <tr>\n",
       "      <th>128890</th>\n",
       "      <td>193169656X</td>\n",
       "      <td>Tyrant Moon</td>\n",
       "      <td>Elaine Corvidae</td>\n",
       "      <td>2002</td>\n",
       "      <td>NaN</td>\n",
       "      <td>http://images.amazon.com/images/P/193169656X.0...</td>\n",
       "      <td>http://images.amazon.com/images/P/193169656X.0...</td>\n",
       "      <td>http://images.amazon.com/images/P/193169656X.0...</td>\n",
       "    </tr>\n",
       "    <tr>\n",
       "      <th>129001</th>\n",
       "      <td>0759901880</td>\n",
       "      <td>Wolfkin</td>\n",
       "      <td>Elaine Corvidae</td>\n",
       "      <td>2001</td>\n",
       "      <td>Hard Shell Word Factory</td>\n",
       "      <td>http://images.amazon.com/images/P/0759901880.0...</td>\n",
       "      <td>http://images.amazon.com/images/P/0759901880.0...</td>\n",
       "      <td>http://images.amazon.com/images/P/0759901880.0...</td>\n",
       "    </tr>\n",
       "    <tr>\n",
       "      <th>129037</th>\n",
       "      <td>1931696993</td>\n",
       "      <td>Finders Keepers</td>\n",
       "      <td>Linnea Sinclair</td>\n",
       "      <td>2001</td>\n",
       "      <td>NaN</td>\n",
       "      <td>http://images.amazon.com/images/P/1931696993.0...</td>\n",
       "      <td>http://images.amazon.com/images/P/1931696993.0...</td>\n",
       "      <td>http://images.amazon.com/images/P/1931696993.0...</td>\n",
       "    </tr>\n",
       "    <tr>\n",
       "      <th>187689</th>\n",
       "      <td>9627982032</td>\n",
       "      <td>The Credit Suisse Guide to Managing Your Perso...</td>\n",
       "      <td>NaN</td>\n",
       "      <td>1995</td>\n",
       "      <td>Edinburgh Financial Publishing</td>\n",
       "      <td>http://images.amazon.com/images/P/9627982032.0...</td>\n",
       "      <td>http://images.amazon.com/images/P/9627982032.0...</td>\n",
       "      <td>http://images.amazon.com/images/P/9627982032.0...</td>\n",
       "    </tr>\n",
       "  </tbody>\n",
       "</table>\n",
       "</div>"
      ],
      "text/plain": [
       "              ISBN                                         Book-Title  \\\n",
       "126762  1931696934                                   Winter's Orphans   \n",
       "128890  193169656X                                        Tyrant Moon   \n",
       "129001  0759901880                                            Wolfkin   \n",
       "129037  1931696993                                    Finders Keepers   \n",
       "187689  9627982032  The Credit Suisse Guide to Managing Your Perso...   \n",
       "\n",
       "            Book-Author Year-Of-Publication                       Publisher  \\\n",
       "126762  Elaine Corvidae                2001                      Novelbooks   \n",
       "128890  Elaine Corvidae                2002                             NaN   \n",
       "129001  Elaine Corvidae                2001         Hard Shell Word Factory   \n",
       "129037  Linnea Sinclair                2001                             NaN   \n",
       "187689              NaN                1995  Edinburgh Financial Publishing   \n",
       "\n",
       "                                              Image-URL-S  \\\n",
       "126762  http://images.amazon.com/images/P/1931696934.0...   \n",
       "128890  http://images.amazon.com/images/P/193169656X.0...   \n",
       "129001  http://images.amazon.com/images/P/0759901880.0...   \n",
       "129037  http://images.amazon.com/images/P/1931696993.0...   \n",
       "187689  http://images.amazon.com/images/P/9627982032.0...   \n",
       "\n",
       "                                              Image-URL-M  \\\n",
       "126762  http://images.amazon.com/images/P/1931696934.0...   \n",
       "128890  http://images.amazon.com/images/P/193169656X.0...   \n",
       "129001  http://images.amazon.com/images/P/0759901880.0...   \n",
       "129037  http://images.amazon.com/images/P/1931696993.0...   \n",
       "187689  http://images.amazon.com/images/P/9627982032.0...   \n",
       "\n",
       "                                              Image-URL-L  \n",
       "126762  http://images.amazon.com/images/P/1931696934.0...  \n",
       "128890  http://images.amazon.com/images/P/193169656X.0...  \n",
       "129001  http://images.amazon.com/images/P/0759901880.0...  \n",
       "129037  http://images.amazon.com/images/P/1931696993.0...  \n",
       "187689  http://images.amazon.com/images/P/9627982032.0...  "
      ]
     },
     "execution_count": 40,
     "metadata": {},
     "output_type": "execute_result"
    }
   ],
   "source": [
    "book[(book['Book-Author'] == 'Elaine Corvidae') | (book['Publisher'] == 'Edinburgh Financial Publishing') | (book['Book-Author'] == 'Linnea Sinclair')]"
   ]
  },
  {
   "cell_type": "code",
   "execution_count": 47,
   "id": "a75f9983",
   "metadata": {},
   "outputs": [],
   "source": [
    "book.dropna(inplace=True)"
   ]
  },
  {
   "cell_type": "code",
   "execution_count": 43,
   "id": "65e42546",
   "metadata": {},
   "outputs": [
    {
     "data": {
      "text/plain": [
       "ISBN                   0\n",
       "Book-Title             0\n",
       "Book-Author            0\n",
       "Year-Of-Publication    0\n",
       "Publisher              0\n",
       "Image-URL-S            0\n",
       "Image-URL-M            0\n",
       "Image-URL-L            3\n",
       "dtype: int64"
      ]
     },
     "execution_count": 43,
     "metadata": {},
     "output_type": "execute_result"
    }
   ],
   "source": [
    "book.isna().sum()"
   ]
  },
  {
   "cell_type": "code",
   "execution_count": 45,
   "id": "78882758",
   "metadata": {},
   "outputs": [
    {
     "data": {
      "text/plain": [
       "34.75143370454978"
      ]
     },
     "execution_count": 45,
     "metadata": {},
     "output_type": "execute_result"
    }
   ],
   "source": [
    "mean = user['Age'].mean()\n",
    "mean"
   ]
  },
  {
   "cell_type": "code",
   "execution_count": 46,
   "id": "e55ee8c2",
   "metadata": {},
   "outputs": [],
   "source": [
    "user['Age'].fillna(mean, inplace=True)"
   ]
  },
  {
   "cell_type": "code",
   "execution_count": 49,
   "id": "c2480343",
   "metadata": {},
   "outputs": [
    {
     "data": {
      "text/html": [
       "<div>\n",
       "<style scoped>\n",
       "    .dataframe tbody tr th:only-of-type {\n",
       "        vertical-align: middle;\n",
       "    }\n",
       "\n",
       "    .dataframe tbody tr th {\n",
       "        vertical-align: top;\n",
       "    }\n",
       "\n",
       "    .dataframe thead th {\n",
       "        text-align: right;\n",
       "    }\n",
       "</style>\n",
       "<table border=\"1\" class=\"dataframe\">\n",
       "  <thead>\n",
       "    <tr style=\"text-align: right;\">\n",
       "      <th></th>\n",
       "      <th>User-ID</th>\n",
       "      <th>Location</th>\n",
       "      <th>Age</th>\n",
       "    </tr>\n",
       "  </thead>\n",
       "  <tbody>\n",
       "    <tr>\n",
       "      <th>257115</th>\n",
       "      <td>257116</td>\n",
       "      <td>st.michael, n/a, barbados</td>\n",
       "      <td>13.000000</td>\n",
       "    </tr>\n",
       "    <tr>\n",
       "      <th>211910</th>\n",
       "      <td>211911</td>\n",
       "      <td>dublin 4, n/a, ireland</td>\n",
       "      <td>34.751434</td>\n",
       "    </tr>\n",
       "    <tr>\n",
       "      <th>73516</th>\n",
       "      <td>73517</td>\n",
       "      <td>portland, maine, usa</td>\n",
       "      <td>34.751434</td>\n",
       "    </tr>\n",
       "    <tr>\n",
       "      <th>188929</th>\n",
       "      <td>188930</td>\n",
       "      <td>barre, vermont, usa</td>\n",
       "      <td>33.000000</td>\n",
       "    </tr>\n",
       "    <tr>\n",
       "      <th>21363</th>\n",
       "      <td>21364</td>\n",
       "      <td>san diego, california, usa</td>\n",
       "      <td>32.000000</td>\n",
       "    </tr>\n",
       "  </tbody>\n",
       "</table>\n",
       "</div>"
      ],
      "text/plain": [
       "        User-ID                    Location        Age\n",
       "257115   257116   st.michael, n/a, barbados  13.000000\n",
       "211910   211911      dublin 4, n/a, ireland  34.751434\n",
       "73516     73517        portland, maine, usa  34.751434\n",
       "188929   188930         barre, vermont, usa  33.000000\n",
       "21363     21364  san diego, california, usa  32.000000"
      ]
     },
     "execution_count": 49,
     "metadata": {},
     "output_type": "execute_result"
    }
   ],
   "source": [
    "user.sample(5)"
   ]
  },
  {
   "cell_type": "code",
   "execution_count": null,
   "id": "6034b1ac",
   "metadata": {},
   "outputs": [],
   "source": []
  }
 ],
 "metadata": {
  "kernelspec": {
   "display_name": "Python 3 (ipykernel)",
   "language": "python",
   "name": "python3"
  },
  "language_info": {
   "codemirror_mode": {
    "name": "ipython",
    "version": 3
   },
   "file_extension": ".py",
   "mimetype": "text/x-python",
   "name": "python",
   "nbconvert_exporter": "python",
   "pygments_lexer": "ipython3",
   "version": "3.10.9"
  }
 },
 "nbformat": 4,
 "nbformat_minor": 5
}
